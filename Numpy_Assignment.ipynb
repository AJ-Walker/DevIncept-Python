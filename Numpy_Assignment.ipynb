{
  "nbformat": 4,
  "nbformat_minor": 0,
  "metadata": {
    "colab": {
      "name": "Numpy_Assignment.ipynb",
      "provenance": [],
      "collapsed_sections": [],
      "authorship_tag": "ABX9TyNHqJ5KEnEe4LWUsOhWWbbl",
      "include_colab_link": true
    },
    "kernelspec": {
      "name": "python3",
      "display_name": "Python 3"
    },
    "language_info": {
      "name": "python"
    }
  },
  "cells": [
    {
      "cell_type": "markdown",
      "metadata": {
        "id": "view-in-github",
        "colab_type": "text"
      },
      "source": [
        "<a href=\"https://colab.research.google.com/github/AJ-Walker/DevIncept-Python/blob/main/Numpy_Assignment.ipynb\" target=\"_parent\"><img src=\"https://colab.research.google.com/assets/colab-badge.svg\" alt=\"Open In Colab\"/></a>"
      ]
    },
    {
      "cell_type": "code",
      "metadata": {
        "id": "4PsevyO-DXsl"
      },
      "source": [
        "# import numpy\n",
        "import numpy as np"
      ],
      "execution_count": null,
      "outputs": []
    },
    {
      "cell_type": "code",
      "metadata": {
        "colab": {
          "base_uri": "https://localhost:8080/"
        },
        "id": "HnUu3uqHGVbU",
        "outputId": "81bee20c-a566-490d-d615-9abc6aa92a7e"
      },
      "source": [
        "# Creating a 1D array using numpy\n",
        "sports = np.array(['Football', 'Cricket', 'Baseball', 'Basketball', 'Volleyball', 'Badminton'])\n",
        "print(sports)\n",
        "\n",
        "# Indexing operations on 1D array\n",
        "print(sports[2])\n",
        "print(sports[5])\n",
        "\n",
        "# Slicing operations on 1D array\n",
        "print(sports[2:3])\n",
        "print(sports[:3])\n",
        "print(sports[3:])"
      ],
      "execution_count": null,
      "outputs": [
        {
          "output_type": "stream",
          "name": "stdout",
          "text": [
            "['Football' 'Cricket' 'Baseball' 'Basketball' 'Volleyball' 'Badminton']\n",
            "Baseball\n",
            "Badminton\n",
            "['Baseball']\n",
            "['Football' 'Cricket' 'Baseball']\n",
            "['Basketball' 'Volleyball' 'Badminton']\n"
          ]
        }
      ]
    },
    {
      "cell_type": "code",
      "metadata": {
        "colab": {
          "base_uri": "https://localhost:8080/"
        },
        "id": "qqeYPE6oOdyq",
        "outputId": "ec5cb8a2-7f14-472a-e16b-7b9a26fc2d6f"
      },
      "source": [
        "# Creating a 2D array using numpy\n",
        "num_arr = np.array([[1,2,3,4,5],[6,7,8,9,10]])\n",
        "print(num_arr)\n",
        "\n",
        "# Indexing operations on 2D array\n",
        "print(num_arr[0])\n",
        "print(num_arr[1][3])\n",
        "print(num_arr[0][3])\n",
        "\n",
        "# Slicing operations on 2D array\n",
        "print(num_arr[:1])\n",
        "print(num_arr[1,2:])\n",
        "print(num_arr[1,:3])\n",
        "print(num_arr[0,2:])\n",
        "print(num_arr[0,:3])"
      ],
      "execution_count": null,
      "outputs": [
        {
          "output_type": "stream",
          "name": "stdout",
          "text": [
            "[[ 1  2  3  4  5]\n",
            " [ 6  7  8  9 10]]\n",
            "[1 2 3 4 5]\n",
            "9\n",
            "4\n",
            "[[1 2 3 4 5]]\n",
            "[ 8  9 10]\n",
            "[6 7 8]\n",
            "[3 4 5]\n",
            "[1 2 3]\n"
          ]
        }
      ]
    },
    {
      "cell_type": "code",
      "metadata": {
        "colab": {
          "base_uri": "https://localhost:8080/"
        },
        "id": "R_yvV5H2P_aU",
        "outputId": "1333f0cb-449a-4c22-a59d-a5e46c37504d"
      },
      "source": [
        "# Basic operations with arrays\n",
        "arr1 = np.array([1,2,3,4,5])\n",
        "arr2 = np.array([6,7,8,9,10])\n",
        "\n",
        "# Addition\n",
        "print(arr1 + arr2)\n",
        "\n",
        "# Subtraction\n",
        "print(arr1 - arr2)\n",
        "\n",
        "# Multiplication\n",
        "print(arr1 * arr2)\n",
        "\n",
        "# Division\n",
        "print(arr1 / arr2)"
      ],
      "execution_count": null,
      "outputs": [
        {
          "output_type": "stream",
          "name": "stdout",
          "text": [
            "[ 7  9 11 13 15]\n",
            "[-5 -5 -5 -5 -5]\n",
            "[ 6 14 24 36 50]\n",
            "[0.16666667 0.28571429 0.375      0.44444444 0.5       ]\n"
          ]
        }
      ]
    },
    {
      "cell_type": "code",
      "metadata": {
        "colab": {
          "base_uri": "https://localhost:8080/"
        },
        "id": "9wGUA5JQRPUK",
        "outputId": "a4f110cf-4c40-4fbc-ebe0-9ce4137ec2fa"
      },
      "source": [
        "# Numpy Functions on 1D and 2D Array\n",
        "arr = np.array([[1, 2, 3, 4], [5, 6, 7, 8]])\n",
        "arr1= np.array([1,2,3,4])\n",
        "\n",
        "# Array Shapes\n",
        "print(arr.shape)\n",
        "print(arr1.shape)\n",
        "\n",
        "# 1D array\n",
        "arr3 = np.array([50,34,23,67,12,89,98])\n",
        "print(\"The dimension of the given array :\", arr3.ndim)\n",
        "print(\"The shape of the of the given array :\", arr3.shape)\n",
        "print(\"Total number of elements :\", arr3.size)\n",
        "\n",
        "# 2D array\n",
        "arr4 = np.array([[34,67,12,34,67],[6,2,7,1,8],[2,4,6,8,10]])\n",
        "print(\"The dimension of the given array :\", arr4.ndim)\n",
        "print(\"The shape of the given array :\", arr4.shape)\n",
        "print(\"Total number of elements :\", arr4.size)\n",
        "\n",
        "# 1D array\n",
        "arr5 = np.array([3, 2, 0, 1])\n",
        "print(np.sort(arr5))\n",
        "   \n",
        "# 2D array\n",
        "arr6 = np.array([[3, 2, 4], [5, 0, 1]])\n",
        "print(np.sort(arr6))\n",
        "\n",
        "# Mean, Median, Mode, Standard Deviation\n",
        "arr7 = np.array([1,2,3,4,5,6,7,8,9,10])\n",
        "\n",
        "# Mean\n",
        "print('Mean :', np.mean(arr7))\n",
        "\n",
        "# Median\n",
        "print('Median :', np.median(arr7))\n",
        "\n",
        "# Mode\n",
        "from scipy import stats\n",
        "print('Mode :', stats.mode(arr7))\n",
        "\n",
        "# Standard Deviation\n",
        "print('Standard Deviation :', np.std(arr7))"
      ],
      "execution_count": null,
      "outputs": [
        {
          "output_type": "stream",
          "name": "stdout",
          "text": [
            "(2, 4)\n",
            "(4,)\n",
            "The dimension of the given array : 1\n",
            "The shape of the of the given array : (7,)\n",
            "Total number of elements : 7\n",
            "The dimension of the given array : 2\n",
            "The shape of the given array : (3, 5)\n",
            "Total number of elements : 15\n",
            "[0 1 2 3]\n",
            "[[2 3 4]\n",
            " [0 1 5]]\n",
            "Mean : 5.5\n",
            "Median : 5.5\n",
            "Mode : ModeResult(mode=array([1]), count=array([1]))\n",
            "Standard Deviation : 2.8722813232690143\n"
          ]
        }
      ]
    }
  ]
}