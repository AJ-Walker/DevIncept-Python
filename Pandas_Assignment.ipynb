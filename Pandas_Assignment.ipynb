{
  "nbformat": 4,
  "nbformat_minor": 0,
  "metadata": {
    "colab": {
      "name": "Pandas_Assignment.ipynb",
      "provenance": [],
      "authorship_tag": "ABX9TyNpnwKPOrqV3hvNML2kUjpD",
      "include_colab_link": true
    },
    "kernelspec": {
      "name": "python3",
      "display_name": "Python 3"
    },
    "language_info": {
      "name": "python"
    }
  },
  "cells": [
    {
      "cell_type": "markdown",
      "metadata": {
        "id": "view-in-github",
        "colab_type": "text"
      },
      "source": [
        "<a href=\"https://colab.research.google.com/github/AJ-Walker/DevIncept-Python/blob/main/Pandas_Assignment.ipynb\" target=\"_parent\"><img src=\"https://colab.research.google.com/assets/colab-badge.svg\" alt=\"Open In Colab\"/></a>"
      ]
    },
    {
      "cell_type": "code",
      "metadata": {
        "id": "CywjKlIeVMvG"
      },
      "source": [
        "# import Pandas and numpy\n",
        "import numpy as np\n",
        "import pandas as pd"
      ],
      "execution_count": 2,
      "outputs": []
    },
    {
      "cell_type": "code",
      "metadata": {
        "id": "FEo-ynWQVwDC"
      },
      "source": [
        "# Creating a series using numpy array and lists\n",
        "arr = np.array(['A', 'b', 'h', 'a', 'y'])\n",
        "ser = pd.Series(arr)\n",
        "print(arr)\n",
        "print(ser)\n",
        "\n",
        "list = [0, 1, 4, 9, 16]\n",
        "ser1 = pd.Series(list)\n",
        "print(list)\n",
        "print(ser1)"
      ],
      "execution_count": null,
      "outputs": []
    },
    {
      "cell_type": "code",
      "metadata": {
        "id": "iWkDvOD4XzO7",
        "colab": {
          "base_uri": "https://localhost:8080/"
        },
        "outputId": "ddd8e050-2253-4ff9-ea56-b57915e69e82"
      },
      "source": [
        "# Working with dataframe and datasets\n",
        "# FIFA World Cup\n",
        "\n",
        "df = pd.read_csv(\"WorldCups.csv\", index_col=\"Winner\")\n",
        "print(df)"
      ],
      "execution_count": 16,
      "outputs": [
        {
          "output_type": "stream",
          "name": "stdout",
          "text": [
            "            Year       Country  ... MatchesPlayed Attendance\n",
            "Winner                          ...                         \n",
            "Uruguay     1930       Uruguay  ...            18    590.549\n",
            "Italy       1934         Italy  ...            17    363.000\n",
            "Italy       1938        France  ...            18    375.700\n",
            "Uruguay     1950        Brazil  ...            22  1.045.246\n",
            "Germany FR  1954   Switzerland  ...            26    768.607\n",
            "Brazil      1958        Sweden  ...            35    819.810\n",
            "Brazil      1962         Chile  ...            32    893.172\n",
            "England     1966       England  ...            32  1.563.135\n",
            "Brazil      1970        Mexico  ...            32  1.603.975\n",
            "Germany FR  1974       Germany  ...            38  1.865.753\n",
            "Argentina   1978     Argentina  ...            38  1.545.791\n",
            "Italy       1982         Spain  ...            52  2.109.723\n",
            "Argentina   1986        Mexico  ...            52  2.394.031\n",
            "Germany FR  1990         Italy  ...            52  2.516.215\n",
            "Brazil      1994           USA  ...            52  3.587.538\n",
            "France      1998        France  ...            64  2.785.100\n",
            "Brazil      2002   Korea/Japan  ...            64  2.705.197\n",
            "Italy       2006       Germany  ...            64  3.359.439\n",
            "Spain       2010  South Africa  ...            64  3.178.856\n",
            "Germany     2014        Brazil  ...            64  3.386.810\n",
            "\n",
            "[20 rows x 9 columns]\n"
          ]
        }
      ]
    },
    {
      "cell_type": "code",
      "metadata": {
        "colab": {
          "base_uri": "https://localhost:8080/"
        },
        "id": "lG0JMA3QiIgg",
        "outputId": "f595b876-d728-4b32-a0a0-c4ea8b0f5c65"
      },
      "source": [
        "# Getting all columns\n",
        "print(df.columns)"
      ],
      "execution_count": 12,
      "outputs": [
        {
          "output_type": "stream",
          "name": "stdout",
          "text": [
            "Index(['Year', 'Country', 'Winner', 'Runners-Up', 'Third', 'Fourth',\n",
            "       'GoalsScored', 'QualifiedTeams', 'MatchesPlayed', 'Attendance'],\n",
            "      dtype='object')\n"
          ]
        }
      ]
    },
    {
      "cell_type": "code",
      "metadata": {
        "colab": {
          "base_uri": "https://localhost:8080/"
        },
        "id": "4jMMYNxqijKr",
        "outputId": "51312a70-d6d5-4629-a1bf-1b5011af764e"
      },
      "source": [
        "# Retrieving columns by indexing\n",
        "year = df[\"Year\"]\n",
        "print(year)"
      ],
      "execution_count": 18,
      "outputs": [
        {
          "output_type": "stream",
          "name": "stdout",
          "text": [
            "Winner\n",
            "Uruguay       1930\n",
            "Italy         1934\n",
            "Italy         1938\n",
            "Uruguay       1950\n",
            "Germany FR    1954\n",
            "Brazil        1958\n",
            "Brazil        1962\n",
            "England       1966\n",
            "Brazil        1970\n",
            "Germany FR    1974\n",
            "Argentina     1978\n",
            "Italy         1982\n",
            "Argentina     1986\n",
            "Germany FR    1990\n",
            "Brazil        1994\n",
            "France        1998\n",
            "Brazil        2002\n",
            "Italy         2006\n",
            "Spain         2010\n",
            "Germany       2014\n",
            "Name: Year, dtype: int64\n"
          ]
        }
      ]
    },
    {
      "cell_type": "code",
      "metadata": {
        "colab": {
          "base_uri": "https://localhost:8080/"
        },
        "id": "6l6TTDIhkJR7",
        "outputId": "f5855fce-58be-42c6-c4c5-0cacb6a1d6a3"
      },
      "source": [
        "# Retrieving rows by iloc method\n",
        "row1 = df.iloc[9]\n",
        "print(row1)"
      ],
      "execution_count": 20,
      "outputs": [
        {
          "output_type": "stream",
          "name": "stdout",
          "text": [
            "Year                     1974\n",
            "Country               Germany\n",
            "Runners-Up        Netherlands\n",
            "Third                  Poland\n",
            "Fourth                 Brazil\n",
            "GoalsScored                97\n",
            "QualifiedTeams             16\n",
            "MatchesPlayed              38\n",
            "Attendance          1.865.753\n",
            "Name: Germany FR, dtype: object\n"
          ]
        }
      ]
    }
  ]
}